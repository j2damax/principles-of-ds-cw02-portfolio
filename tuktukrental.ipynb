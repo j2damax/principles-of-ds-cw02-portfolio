{
 "cells": [
  {
   "cell_type": "markdown",
   "id": "fe170101-8ec0-4cbf-b991-7d2b034203b9",
   "metadata": {},
   "source": [
    "# Tuk Tuk Tournament - Adventure Across Sri Lanka"
   ]
  },
  {
   "cell_type": "code",
   "execution_count": 259,
   "id": "b9c0f815-48ae-471d-a6fd-206087212556",
   "metadata": {},
   "outputs": [
    {
     "name": "stdout",
     "output_type": "stream",
     "text": [
      "Collecting boto3\n",
      "  Downloading boto3-1.37.6-py3-none-any.whl.metadata (6.6 kB)\n",
      "Collecting botocore<1.38.0,>=1.37.6 (from boto3)\n",
      "  Downloading botocore-1.37.6-py3-none-any.whl.metadata (5.7 kB)\n",
      "Requirement already satisfied: jmespath<2.0.0,>=0.7.1 in /opt/anaconda3/lib/python3.12/site-packages (from boto3) (1.0.1)\n",
      "Collecting s3transfer<0.12.0,>=0.11.0 (from boto3)\n",
      "  Downloading s3transfer-0.11.4-py3-none-any.whl.metadata (1.7 kB)\n",
      "Requirement already satisfied: python-dateutil<3.0.0,>=2.1 in /opt/anaconda3/lib/python3.12/site-packages (from botocore<1.38.0,>=1.37.6->boto3) (2.9.0.post0)\n",
      "Requirement already satisfied: urllib3!=2.2.0,<3,>=1.25.4 in /opt/anaconda3/lib/python3.12/site-packages (from botocore<1.38.0,>=1.37.6->boto3) (2.2.3)\n",
      "Requirement already satisfied: six>=1.5 in /opt/anaconda3/lib/python3.12/site-packages (from python-dateutil<3.0.0,>=2.1->botocore<1.38.0,>=1.37.6->boto3) (1.16.0)\n",
      "Downloading boto3-1.37.6-py3-none-any.whl (139 kB)\n",
      "Downloading botocore-1.37.6-py3-none-any.whl (13.4 MB)\n",
      "\u001b[2K   \u001b[90m━━━━━━━━━━━━━━━━━━━━━━━━━━━━━━━━━━━━━━━━\u001b[0m \u001b[32m13.4/13.4 MB\u001b[0m \u001b[31m3.3 MB/s\u001b[0m eta \u001b[36m0:00:00\u001b[0ma \u001b[36m0:00:01\u001b[0m\n",
      "\u001b[?25hDownloading s3transfer-0.11.4-py3-none-any.whl (84 kB)\n",
      "Installing collected packages: botocore, s3transfer, boto3\n",
      "  Attempting uninstall: botocore\n",
      "    Found existing installation: botocore 1.34.69\n",
      "    Uninstalling botocore-1.34.69:\n",
      "      Successfully uninstalled botocore-1.34.69\n",
      "\u001b[31mERROR: pip's dependency resolver does not currently take into account all the packages that are installed. This behaviour is the source of the following dependency conflicts.\n",
      "aiobotocore 2.12.3 requires botocore<1.34.70,>=1.34.41, but you have botocore 1.37.6 which is incompatible.\u001b[0m\u001b[31m\n",
      "\u001b[0mSuccessfully installed boto3-1.37.6 botocore-1.37.6 s3transfer-0.11.4\n",
      "Note: you may need to restart the kernel to use updated packages.\n"
     ]
    }
   ],
   "source": [
    "pip install boto3"
   ]
  },
  {
   "cell_type": "markdown",
   "id": "7958be3d-da16-482d-ad68-c8a3c9cf04e5",
   "metadata": {},
   "source": [
    "### Step 1: Data Reading"
   ]
  },
  {
   "cell_type": "code",
   "execution_count": 13,
   "id": "db492de5-92e4-47c8-aeff-3d7803f940a9",
   "metadata": {
    "scrolled": true
   },
   "outputs": [
    {
     "name": "stdout",
     "output_type": "stream",
     "text": [
      "/Users/jam/msc/course-works\n"
     ]
    }
   ],
   "source": [
    "import os\n",
    "os.chdir(\"/Users/jam/msc/course-works\")\n",
    "print(os.getcwd())  # Verify the change"
   ]
  },
  {
   "cell_type": "code",
   "execution_count": 139,
   "id": "1d2df40b-69cd-436b-9ac3-7919b3465fc6",
   "metadata": {
    "scrolled": true
   },
   "outputs": [
    {
     "data": {
      "text/html": [
       "<div>\n",
       "<style scoped>\n",
       "    .dataframe tbody tr th:only-of-type {\n",
       "        vertical-align: middle;\n",
       "    }\n",
       "\n",
       "    .dataframe tbody tr th {\n",
       "        vertical-align: top;\n",
       "    }\n",
       "\n",
       "    .dataframe thead th {\n",
       "        text-align: right;\n",
       "    }\n",
       "</style>\n",
       "<table border=\"1\" class=\"dataframe\">\n",
       "  <thead>\n",
       "    <tr style=\"text-align: right;\">\n",
       "      <th></th>\n",
       "      <th>team_name</th>\n",
       "      <th>challenge_type</th>\n",
       "      <th>location_name</th>\n",
       "      <th>location_zone</th>\n",
       "      <th>location_area</th>\n",
       "      <th>questbook</th>\n",
       "      <th>MaxPerDay</th>\n",
       "      <th>MaxPerTTT</th>\n",
       "      <th>questbook_name</th>\n",
       "      <th>questbook_category</th>\n",
       "      <th>...</th>\n",
       "      <th>updatedAt</th>\n",
       "      <th>comment_status</th>\n",
       "      <th>report_comment</th>\n",
       "      <th>comment_team_name</th>\n",
       "      <th>admin_comment</th>\n",
       "      <th>day</th>\n",
       "      <th>comments_count</th>\n",
       "      <th>initiated</th>\n",
       "      <th>latitude</th>\n",
       "      <th>longitude</th>\n",
       "    </tr>\n",
       "  </thead>\n",
       "  <tbody>\n",
       "    <tr>\n",
       "      <th>0</th>\n",
       "      <td>Pyxar</td>\n",
       "      <td>questbook</td>\n",
       "      <td>NaN</td>\n",
       "      <td>NaN</td>\n",
       "      <td>NaN</td>\n",
       "      <td>TOURNAMENT SONG</td>\n",
       "      <td>1.0</td>\n",
       "      <td>1.0</td>\n",
       "      <td>TOURNAMENT SONG</td>\n",
       "      <td>RavanasVeena</td>\n",
       "      <td>...</td>\n",
       "      <td>1/11/2024 6:01pm</td>\n",
       "      <td>NaN</td>\n",
       "      <td>NaN</td>\n",
       "      <td>NaN</td>\n",
       "      <td>NaN</td>\n",
       "      <td>2024-11-01</td>\n",
       "      <td>0</td>\n",
       "      <td>1/11/2024 9:46am</td>\n",
       "      <td>NaN</td>\n",
       "      <td>NaN</td>\n",
       "    </tr>\n",
       "    <tr>\n",
       "      <th>1</th>\n",
       "      <td>TheStones</td>\n",
       "      <td>questbook</td>\n",
       "      <td>NaN</td>\n",
       "      <td>NaN</td>\n",
       "      <td>NaN</td>\n",
       "      <td>BEACH CLEAN</td>\n",
       "      <td>1.0</td>\n",
       "      <td>5.0</td>\n",
       "      <td>BEACH CLEAN</td>\n",
       "      <td>AranyanisRing</td>\n",
       "      <td>...</td>\n",
       "      <td>1/11/2024 5:19pm</td>\n",
       "      <td>NaN</td>\n",
       "      <td>NaN</td>\n",
       "      <td>NaN</td>\n",
       "      <td>NaN</td>\n",
       "      <td>2024-11-01</td>\n",
       "      <td>0</td>\n",
       "      <td>1/11/2024 2:06pm</td>\n",
       "      <td>NaN</td>\n",
       "      <td>NaN</td>\n",
       "    </tr>\n",
       "    <tr>\n",
       "      <th>2</th>\n",
       "      <td>FRENCHTUKTUKADVENTURE</td>\n",
       "      <td>questbook</td>\n",
       "      <td>NaN</td>\n",
       "      <td>NaN</td>\n",
       "      <td>NaN</td>\n",
       "      <td>ROADSIDE FRUIT</td>\n",
       "      <td>1.0</td>\n",
       "      <td>10.0</td>\n",
       "      <td>ROADSIDE FRUIT</td>\n",
       "      <td>QueenSitasCloak</td>\n",
       "      <td>...</td>\n",
       "      <td>1/11/2024 4:19pm</td>\n",
       "      <td>NaN</td>\n",
       "      <td>NaN</td>\n",
       "      <td>NaN</td>\n",
       "      <td>NaN</td>\n",
       "      <td>2024-11-01</td>\n",
       "      <td>0</td>\n",
       "      <td>1/11/2024 2:45pm</td>\n",
       "      <td>NaN</td>\n",
       "      <td>NaN</td>\n",
       "    </tr>\n",
       "    <tr>\n",
       "      <th>3</th>\n",
       "      <td>FRENCHTUKTUKADVENTURE</td>\n",
       "      <td>questbook</td>\n",
       "      <td>NaN</td>\n",
       "      <td>NaN</td>\n",
       "      <td>NaN</td>\n",
       "      <td>ROADSIDE FRUIT</td>\n",
       "      <td>1.0</td>\n",
       "      <td>10.0</td>\n",
       "      <td>ROADSIDE FRUIT</td>\n",
       "      <td>QueenSitasCloak</td>\n",
       "      <td>...</td>\n",
       "      <td>1/11/2024 4:19pm</td>\n",
       "      <td>NaN</td>\n",
       "      <td>NaN</td>\n",
       "      <td>NaN</td>\n",
       "      <td>NaN</td>\n",
       "      <td>2024-11-01</td>\n",
       "      <td>0</td>\n",
       "      <td>1/11/2024 2:45pm</td>\n",
       "      <td>NaN</td>\n",
       "      <td>NaN</td>\n",
       "    </tr>\n",
       "    <tr>\n",
       "      <th>4</th>\n",
       "      <td>BaNaNaPeeLerZ</td>\n",
       "      <td>questbook</td>\n",
       "      <td>NaN</td>\n",
       "      <td>NaN</td>\n",
       "      <td>NaN</td>\n",
       "      <td>LOCAL LEGEND</td>\n",
       "      <td>1.0</td>\n",
       "      <td>5.0</td>\n",
       "      <td>LOCAL LEGEND</td>\n",
       "      <td>PrimalRoar</td>\n",
       "      <td>...</td>\n",
       "      <td>1/11/2024 4:03pm</td>\n",
       "      <td>NaN</td>\n",
       "      <td>NaN</td>\n",
       "      <td>NaN</td>\n",
       "      <td>NaN</td>\n",
       "      <td>2024-11-01</td>\n",
       "      <td>0</td>\n",
       "      <td>1/11/2024 4:03pm</td>\n",
       "      <td>NaN</td>\n",
       "      <td>NaN</td>\n",
       "    </tr>\n",
       "  </tbody>\n",
       "</table>\n",
       "<p>5 rows × 28 columns</p>\n",
       "</div>"
      ],
      "text/plain": [
       "               team_name challenge_type location_name  location_zone  \\\n",
       "0                  Pyxar      questbook           NaN            NaN   \n",
       "1              TheStones      questbook           NaN            NaN   \n",
       "2  FRENCHTUKTUKADVENTURE      questbook           NaN            NaN   \n",
       "3  FRENCHTUKTUKADVENTURE      questbook           NaN            NaN   \n",
       "4          BaNaNaPeeLerZ      questbook           NaN            NaN   \n",
       "\n",
       "  location_area        questbook  MaxPerDay  MaxPerTTT   questbook_name  \\\n",
       "0           NaN  TOURNAMENT SONG        1.0        1.0  TOURNAMENT SONG   \n",
       "1           NaN      BEACH CLEAN        1.0        5.0      BEACH CLEAN   \n",
       "2           NaN   ROADSIDE FRUIT        1.0       10.0   ROADSIDE FRUIT   \n",
       "3           NaN   ROADSIDE FRUIT        1.0       10.0   ROADSIDE FRUIT   \n",
       "4           NaN     LOCAL LEGEND        1.0        5.0     LOCAL LEGEND   \n",
       "\n",
       "  questbook_category  ...         updatedAt  comment_status report_comment  \\\n",
       "0       RavanasVeena  ...  1/11/2024 6:01pm             NaN            NaN   \n",
       "1      AranyanisRing  ...  1/11/2024 5:19pm             NaN            NaN   \n",
       "2    QueenSitasCloak  ...  1/11/2024 4:19pm             NaN            NaN   \n",
       "3    QueenSitasCloak  ...  1/11/2024 4:19pm             NaN            NaN   \n",
       "4         PrimalRoar  ...  1/11/2024 4:03pm             NaN            NaN   \n",
       "\n",
       "  comment_team_name admin_comment         day comments_count  \\\n",
       "0               NaN           NaN  2024-11-01              0   \n",
       "1               NaN           NaN  2024-11-01              0   \n",
       "2               NaN           NaN  2024-11-01              0   \n",
       "3               NaN           NaN  2024-11-01              0   \n",
       "4               NaN           NaN  2024-11-01              0   \n",
       "\n",
       "          initiated latitude longitude  \n",
       "0  1/11/2024 9:46am      NaN       NaN  \n",
       "1  1/11/2024 2:06pm      NaN       NaN  \n",
       "2  1/11/2024 2:45pm      NaN       NaN  \n",
       "3  1/11/2024 2:45pm      NaN       NaN  \n",
       "4  1/11/2024 4:03pm      NaN       NaN  \n",
       "\n",
       "[5 rows x 28 columns]"
      ]
     },
     "execution_count": 139,
     "metadata": {},
     "output_type": "execute_result"
    }
   ],
   "source": [
    "import pandas as pd\n",
    "df = pd.read_csv(\"challenges_completed_2024.csv\")\n",
    "df.head()"
   ]
  },
  {
   "cell_type": "markdown",
   "id": "e0ba639b-3db0-4036-8f18-083ea6f5f64a",
   "metadata": {},
   "source": [
    "### Step 2: Understanding Data"
   ]
  },
  {
   "cell_type": "code",
   "execution_count": 141,
   "id": "f0013b76-743f-46e1-ad35-8e892ed4165e",
   "metadata": {},
   "outputs": [
    {
     "data": {
      "text/plain": [
       "Index(['team_name', 'challenge_type', 'location_name', 'location_zone',\n",
       "       'location_area', 'questbook', 'MaxPerDay', 'MaxPerTTT',\n",
       "       'questbook_name', 'questbook_category', 'questbook_type', 'points',\n",
       "       'seekers_portion', 'partner_team_name', 'media_type', 'caption',\n",
       "       'deleted', 'created', 'updatedAt', 'comment_status', 'report_comment',\n",
       "       'comment_team_name', 'admin_comment', 'day', 'comments_count',\n",
       "       'initiated', 'latitude', 'longitude'],\n",
       "      dtype='object')"
      ]
     },
     "execution_count": 141,
     "metadata": {},
     "output_type": "execute_result"
    }
   ],
   "source": [
    "df.columns"
   ]
  },
  {
   "cell_type": "code",
   "execution_count": 143,
   "id": "423fcc51-0bd1-440a-8064-4c358e7b6c08",
   "metadata": {},
   "outputs": [
    {
     "data": {
      "text/plain": [
       "(17907, 28)"
      ]
     },
     "execution_count": 143,
     "metadata": {},
     "output_type": "execute_result"
    }
   ],
   "source": [
    "df.shape"
   ]
  },
  {
   "cell_type": "code",
   "execution_count": 145,
   "id": "ea4d4118-af0b-4d76-85c5-2e7dfb749d1e",
   "metadata": {},
   "outputs": [
    {
     "name": "stdout",
     "output_type": "stream",
     "text": [
      "<class 'pandas.core.frame.DataFrame'>\n",
      "RangeIndex: 17907 entries, 0 to 17906\n",
      "Data columns (total 28 columns):\n",
      " #   Column              Non-Null Count  Dtype  \n",
      "---  ------              --------------  -----  \n",
      " 0   team_name           17907 non-null  object \n",
      " 1   challenge_type      17907 non-null  object \n",
      " 2   location_name       5405 non-null   object \n",
      " 3   location_zone       5405 non-null   float64\n",
      " 4   location_area       5405 non-null   object \n",
      " 5   questbook           12502 non-null  object \n",
      " 6   MaxPerDay           12502 non-null  float64\n",
      " 7   MaxPerTTT           12502 non-null  float64\n",
      " 8   questbook_name      12502 non-null  object \n",
      " 9   questbook_category  12502 non-null  object \n",
      " 10  questbook_type      12502 non-null  object \n",
      " 11  points              17907 non-null  int64  \n",
      " 12  seekers_portion     996 non-null    object \n",
      " 13  partner_team_name   769 non-null    object \n",
      " 14  media_type          17907 non-null  object \n",
      " 15  caption             9915 non-null   object \n",
      " 16  deleted             248 non-null    object \n",
      " 17  created             17907 non-null  object \n",
      " 18  updatedAt           17907 non-null  object \n",
      " 19  comment_status      523 non-null    object \n",
      " 20  report_comment      523 non-null    object \n",
      " 21  comment_team_name   523 non-null    object \n",
      " 22  admin_comment       516 non-null    object \n",
      " 23  day                 17907 non-null  object \n",
      " 24  comments_count      17907 non-null  int64  \n",
      " 25  initiated           17907 non-null  object \n",
      " 26  latitude            5405 non-null   float64\n",
      " 27  longitude           5405 non-null   float64\n",
      "dtypes: float64(5), int64(2), object(21)\n",
      "memory usage: 3.8+ MB\n"
     ]
    }
   ],
   "source": [
    "df.info()"
   ]
  },
  {
   "cell_type": "code",
   "execution_count": 147,
   "id": "ba071e9b-d3ab-4cd4-b68b-4bd16fb4884b",
   "metadata": {},
   "outputs": [
    {
     "data": {
      "text/plain": [
       "team_name                 0\n",
       "challenge_type            0\n",
       "location_name         12502\n",
       "location_zone         12502\n",
       "location_area         12502\n",
       "questbook              5405\n",
       "MaxPerDay              5405\n",
       "MaxPerTTT              5405\n",
       "questbook_name         5405\n",
       "questbook_category     5405\n",
       "questbook_type         5405\n",
       "points                    0\n",
       "seekers_portion       16911\n",
       "partner_team_name     17138\n",
       "media_type                0\n",
       "caption                7992\n",
       "deleted               17659\n",
       "created                   0\n",
       "updatedAt                 0\n",
       "comment_status        17384\n",
       "report_comment        17384\n",
       "comment_team_name     17384\n",
       "admin_comment         17391\n",
       "day                       0\n",
       "comments_count            0\n",
       "initiated                 0\n",
       "latitude              12502\n",
       "longitude             12502\n",
       "dtype: int64"
      ]
     },
     "execution_count": 147,
     "metadata": {},
     "output_type": "execute_result"
    }
   ],
   "source": [
    "df.isnull().sum()"
   ]
  },
  {
   "cell_type": "markdown",
   "id": "e2685c23-f367-4265-95b4-08d8c81953e8",
   "metadata": {},
   "source": [
    "### Step 3: Data Cleaning"
   ]
  },
  {
   "cell_type": "code",
   "execution_count": 171,
   "id": "dcfd8a3e-7d70-48c1-9e6e-8d1a876e2cdc",
   "metadata": {},
   "outputs": [
    {
     "name": "stdout",
     "output_type": "stream",
     "text": [
      "<class 'pandas.core.frame.DataFrame'>\n",
      "Index: 17659 entries, 0 to 17906\n",
      "Data columns (total 28 columns):\n",
      " #   Column              Non-Null Count  Dtype  \n",
      "---  ------              --------------  -----  \n",
      " 0   team_name           17659 non-null  object \n",
      " 1   challenge_type      17659 non-null  object \n",
      " 2   location_name       5332 non-null   object \n",
      " 3   location_zone       5332 non-null   float64\n",
      " 4   location_area       5332 non-null   object \n",
      " 5   questbook           12327 non-null  object \n",
      " 6   MaxPerDay           12327 non-null  float64\n",
      " 7   MaxPerTTT           12327 non-null  float64\n",
      " 8   questbook_name      12327 non-null  object \n",
      " 9   questbook_category  12327 non-null  object \n",
      " 10  questbook_type      12327 non-null  object \n",
      " 11  points              17659 non-null  int64  \n",
      " 12  seekers_portion     985 non-null    object \n",
      " 13  partner_team_name   769 non-null    object \n",
      " 14  media_type          17659 non-null  object \n",
      " 15  caption             9787 non-null   object \n",
      " 16  deleted             17659 non-null  int64  \n",
      " 17  created             17659 non-null  object \n",
      " 18  updatedAt           17659 non-null  object \n",
      " 19  comment_status      275 non-null    object \n",
      " 20  report_comment      275 non-null    object \n",
      " 21  comment_team_name   275 non-null    object \n",
      " 22  admin_comment       269 non-null    object \n",
      " 23  day                 17659 non-null  object \n",
      " 24  comments_count      17659 non-null  int64  \n",
      " 25  initiated           17659 non-null  object \n",
      " 26  latitude            5332 non-null   float64\n",
      " 27  longitude           5332 non-null   float64\n",
      "dtypes: float64(5), int64(3), object(20)\n",
      "memory usage: 3.9+ MB\n"
     ]
    }
   ],
   "source": [
    "df.info()"
   ]
  },
  {
   "cell_type": "code",
   "execution_count": 151,
   "id": "f4fba8e4-dee3-40d4-bfa8-7dbd27617045",
   "metadata": {},
   "outputs": [],
   "source": [
    "# change NAN values to 0 and other values to 1\n",
    "df[\"deleted\"] = df[\"deleted\"].notna().astype(int)"
   ]
  },
  {
   "cell_type": "code",
   "execution_count": 153,
   "id": "73450685-b51c-416a-ac42-344c411a9f47",
   "metadata": {},
   "outputs": [
    {
     "name": "stdout",
     "output_type": "stream",
     "text": [
      "248 rows with deleted true\n",
      "17659 rows with deleted false\n"
     ]
    }
   ],
   "source": [
    "# It's safer to delete the deleted = 1 data set\n",
    "print(df[df[\"deleted\"] == 1].shape[0], \"rows with deleted true\")\n",
    "print(df[df[\"deleted\"] == 0].shape[0], \"rows with deleted false\")"
   ]
  },
  {
   "cell_type": "code",
   "execution_count": 155,
   "id": "c86cdd82-6f63-4e85-9139-36ad73f51f43",
   "metadata": {},
   "outputs": [
    {
     "data": {
      "text/plain": [
       "(17907, 28)"
      ]
     },
     "execution_count": 155,
     "metadata": {},
     "output_type": "execute_result"
    }
   ],
   "source": [
    "df.shape"
   ]
  },
  {
   "cell_type": "code",
   "execution_count": 157,
   "id": "21c68fc6-5c6f-49e6-9607-56513ade914b",
   "metadata": {},
   "outputs": [],
   "source": [
    "df = df[df[\"deleted\"] != 1]"
   ]
  },
  {
   "cell_type": "code",
   "execution_count": 159,
   "id": "c744e391-5bdc-4322-89ed-fdd2358dc7ce",
   "metadata": {},
   "outputs": [
    {
     "data": {
      "text/plain": [
       "(17659, 28)"
      ]
     },
     "execution_count": 159,
     "metadata": {},
     "output_type": "execute_result"
    }
   ],
   "source": [
    "df.shape"
   ]
  },
  {
   "cell_type": "code",
   "execution_count": 175,
   "id": "7e46604a-5e64-4792-aa92-6af117238cc5",
   "metadata": {},
   "outputs": [
    {
     "name": "stdout",
     "output_type": "stream",
     "text": [
      "       location_zone     MaxPerDay    MaxPerTTT        points  deleted  \\\n",
      "count    5332.000000  12327.000000  12327.00000  17659.000000  17659.0   \n",
      "mean     2542.516317      1.107488      3.78973      4.201370      0.0   \n",
      "std      1168.241975      0.553966      3.46849      3.330358      0.0   \n",
      "min      1010.000000      1.000000      1.00000      1.000000      0.0   \n",
      "25%      2034.000000      1.000000      1.00000      2.000000      0.0   \n",
      "50%      2125.500000      1.000000      2.00000      3.000000      0.0   \n",
      "75%      3046.000000      1.000000      5.00000      5.000000      0.0   \n",
      "max      5073.000000      5.000000     10.00000     39.000000      0.0   \n",
      "\n",
      "       comments_count     latitude    longitude  \n",
      "count    17659.000000  5332.000000  5332.000000  \n",
      "mean         0.015629     6.921904    80.811353  \n",
      "std          0.124496     0.770814     0.347170  \n",
      "min          0.000000     5.921260    79.843826  \n",
      "25%          0.000000     6.031544    80.596880  \n",
      "50%          0.000000     6.989672    80.734148  \n",
      "75%          0.000000     7.325717    81.054250  \n",
      "max          2.000000     8.722038    81.867240  \n"
     ]
    }
   ],
   "source": [
    "# Summary statistics\n",
    "print(df.describe())  "
   ]
  },
  {
   "cell_type": "code",
   "execution_count": 177,
   "id": "5755bcc8-b0b2-4236-9b6e-669623a3d736",
   "metadata": {},
   "outputs": [
    {
     "name": "stdout",
     "output_type": "stream",
     "text": [
      "<class 'pandas.core.frame.DataFrame'>\n",
      "Index: 17659 entries, 0 to 17906\n",
      "Data columns (total 28 columns):\n",
      " #   Column              Non-Null Count  Dtype  \n",
      "---  ------              --------------  -----  \n",
      " 0   team_name           17659 non-null  object \n",
      " 1   challenge_type      17659 non-null  object \n",
      " 2   location_name       5332 non-null   object \n",
      " 3   location_zone       5332 non-null   float64\n",
      " 4   location_area       5332 non-null   object \n",
      " 5   questbook           12327 non-null  object \n",
      " 6   MaxPerDay           12327 non-null  float64\n",
      " 7   MaxPerTTT           12327 non-null  float64\n",
      " 8   questbook_name      12327 non-null  object \n",
      " 9   questbook_category  12327 non-null  object \n",
      " 10  questbook_type      12327 non-null  object \n",
      " 11  points              17659 non-null  int64  \n",
      " 12  seekers_portion     985 non-null    object \n",
      " 13  partner_team_name   769 non-null    object \n",
      " 14  media_type          17659 non-null  object \n",
      " 15  caption             9787 non-null   object \n",
      " 16  deleted             17659 non-null  int64  \n",
      " 17  created             17659 non-null  object \n",
      " 18  updatedAt           17659 non-null  object \n",
      " 19  comment_status      275 non-null    object \n",
      " 20  report_comment      275 non-null    object \n",
      " 21  comment_team_name   275 non-null    object \n",
      " 22  admin_comment       269 non-null    object \n",
      " 23  day                 17659 non-null  object \n",
      " 24  comments_count      17659 non-null  int64  \n",
      " 25  initiated           17659 non-null  object \n",
      " 26  latitude            5332 non-null   float64\n",
      " 27  longitude           5332 non-null   float64\n",
      "dtypes: float64(5), int64(3), object(20)\n",
      "memory usage: 3.9+ MB\n"
     ]
    }
   ],
   "source": [
    "df.info()"
   ]
  },
  {
   "cell_type": "code",
   "execution_count": 191,
   "id": "8fdcbfb2-61ce-4c9c-8ee5-5d1eb2f7e164",
   "metadata": {},
   "outputs": [
    {
     "data": {
      "text/plain": [
       "team_name              object\n",
       "challenge_type         object\n",
       "location_name          object\n",
       "location_zone         float64\n",
       "location_area          object\n",
       "questbook              object\n",
       "MaxPerDay             float64\n",
       "MaxPerTTT             float64\n",
       "questbook_name         object\n",
       "questbook_category     object\n",
       "questbook_type         object\n",
       "points                  int64\n",
       "seekers_portion        object\n",
       "partner_team_name      object\n",
       "media_type             object\n",
       "caption                object\n",
       "deleted                 int64\n",
       "created                object\n",
       "updatedAt              object\n",
       "comment_status         object\n",
       "report_comment         object\n",
       "comment_team_name      object\n",
       "admin_comment          object\n",
       "day                    object\n",
       "comments_count          int64\n",
       "initiated              object\n",
       "latitude              float64\n",
       "longitude             float64\n",
       "dtype: object"
      ]
     },
     "execution_count": 191,
     "metadata": {},
     "output_type": "execute_result"
    }
   ],
   "source": [
    "df.dtypes"
   ]
  },
  {
   "cell_type": "markdown",
   "id": "2c5cbfd5-55bf-4721-9b24-ebdc114d69fc",
   "metadata": {},
   "source": [
    "### Data Cleaning"
   ]
  },
  {
   "cell_type": "code",
   "execution_count": 203,
   "id": "a5d113aa-cbeb-4823-a335-f876cbd58129",
   "metadata": {},
   "outputs": [
    {
     "data": {
      "text/plain": [
       "team_name              object\n",
       "challenge_type         object\n",
       "location_name          object\n",
       "location_zone           int64\n",
       "location_area          object\n",
       "questbook              object\n",
       "MaxPerDay               int64\n",
       "MaxPerTTT               int64\n",
       "questbook_name         object\n",
       "questbook_category     object\n",
       "questbook_type         object\n",
       "points                  int64\n",
       "seekers_portion        object\n",
       "partner_team_name      object\n",
       "media_type             object\n",
       "caption                object\n",
       "deleted                 int64\n",
       "created                object\n",
       "updatedAt              object\n",
       "comment_status         object\n",
       "report_comment         object\n",
       "comment_team_name      object\n",
       "admin_comment          object\n",
       "day                    object\n",
       "comments_count          int64\n",
       "initiated              object\n",
       "latitude              float64\n",
       "longitude             float64\n",
       "dtype: object"
      ]
     },
     "execution_count": 203,
     "metadata": {},
     "output_type": "execute_result"
    }
   ],
   "source": [
    "# fill missing values before conversion data types\n",
    "df['location_zone'] = df['location_zone'].fillna(0).astype(int)\n",
    "df['MaxPerDay'] = df['MaxPerDay'].fillna(0).astype(int)\n",
    "df['MaxPerTTT'] = df['MaxPerTTT'].fillna(0).astype(int)\n",
    "\n",
    "df.dtypes"
   ]
  },
  {
   "cell_type": "code",
   "execution_count": null,
   "id": "0f89a1ea-1456-47e2-812a-b4793836eb3e",
   "metadata": {},
   "outputs": [],
   "source": [
    "# convert initiated, created, updatedAt columns to date time type"
   ]
  },
  {
   "cell_type": "code",
   "execution_count": 205,
   "id": "bbced2ac-be15-4449-bef2-55cdc89dad82",
   "metadata": {},
   "outputs": [
    {
     "data": {
      "text/plain": [
       "team_name                     object\n",
       "challenge_type                object\n",
       "location_name                 object\n",
       "location_zone                  int64\n",
       "location_area                 object\n",
       "questbook                     object\n",
       "MaxPerDay                      int64\n",
       "MaxPerTTT                      int64\n",
       "questbook_name                object\n",
       "questbook_category            object\n",
       "questbook_type                object\n",
       "points                         int64\n",
       "seekers_portion               object\n",
       "partner_team_name             object\n",
       "media_type                    object\n",
       "caption                       object\n",
       "deleted                        int64\n",
       "created               datetime64[ns]\n",
       "updatedAt             datetime64[ns]\n",
       "comment_status                object\n",
       "report_comment                object\n",
       "comment_team_name             object\n",
       "admin_comment                 object\n",
       "day                           object\n",
       "comments_count                 int64\n",
       "initiated             datetime64[ns]\n",
       "latitude                     float64\n",
       "longitude                    float64\n",
       "dtype: object"
      ]
     },
     "execution_count": 205,
     "metadata": {},
     "output_type": "execute_result"
    }
   ],
   "source": [
    "df['initiated'] = pd.to_datetime(df['initiated'], format='%d/%m/%Y %I:%M%p')\n",
    "df['created'] = pd.to_datetime(df['created'], format='%d/%m/%Y %I:%M%p')\n",
    "df['updatedAt'] = pd.to_datetime(df['updatedAt'], format='%d/%m/%Y %I:%M%p')\n",
    "df.dtypes"
   ]
  },
  {
   "cell_type": "code",
   "execution_count": 207,
   "id": "89f0294d-583e-4d56-8146-bc4ed0911be3",
   "metadata": {},
   "outputs": [
    {
     "data": {
      "text/html": [
       "<div>\n",
       "<style scoped>\n",
       "    .dataframe tbody tr th:only-of-type {\n",
       "        vertical-align: middle;\n",
       "    }\n",
       "\n",
       "    .dataframe tbody tr th {\n",
       "        vertical-align: top;\n",
       "    }\n",
       "\n",
       "    .dataframe thead th {\n",
       "        text-align: right;\n",
       "    }\n",
       "</style>\n",
       "<table border=\"1\" class=\"dataframe\">\n",
       "  <thead>\n",
       "    <tr style=\"text-align: right;\">\n",
       "      <th></th>\n",
       "      <th>team_name</th>\n",
       "      <th>challenge_type</th>\n",
       "      <th>location_name</th>\n",
       "      <th>location_zone</th>\n",
       "      <th>location_area</th>\n",
       "      <th>questbook</th>\n",
       "      <th>MaxPerDay</th>\n",
       "      <th>MaxPerTTT</th>\n",
       "      <th>questbook_name</th>\n",
       "      <th>questbook_category</th>\n",
       "      <th>...</th>\n",
       "      <th>updatedAt</th>\n",
       "      <th>comment_status</th>\n",
       "      <th>report_comment</th>\n",
       "      <th>comment_team_name</th>\n",
       "      <th>admin_comment</th>\n",
       "      <th>day</th>\n",
       "      <th>comments_count</th>\n",
       "      <th>initiated</th>\n",
       "      <th>latitude</th>\n",
       "      <th>longitude</th>\n",
       "    </tr>\n",
       "  </thead>\n",
       "  <tbody>\n",
       "    <tr>\n",
       "      <th>0</th>\n",
       "      <td>Pyxar</td>\n",
       "      <td>questbook</td>\n",
       "      <td>NaN</td>\n",
       "      <td>0</td>\n",
       "      <td>NaN</td>\n",
       "      <td>TOURNAMENT SONG</td>\n",
       "      <td>1</td>\n",
       "      <td>1</td>\n",
       "      <td>TOURNAMENT SONG</td>\n",
       "      <td>RavanasVeena</td>\n",
       "      <td>...</td>\n",
       "      <td>2024-11-01 18:01:00</td>\n",
       "      <td>NaN</td>\n",
       "      <td>NaN</td>\n",
       "      <td>NaN</td>\n",
       "      <td>NaN</td>\n",
       "      <td>2024-11-01</td>\n",
       "      <td>0</td>\n",
       "      <td>2024-11-01 09:46:00</td>\n",
       "      <td>NaN</td>\n",
       "      <td>NaN</td>\n",
       "    </tr>\n",
       "    <tr>\n",
       "      <th>1</th>\n",
       "      <td>TheStones</td>\n",
       "      <td>questbook</td>\n",
       "      <td>NaN</td>\n",
       "      <td>0</td>\n",
       "      <td>NaN</td>\n",
       "      <td>BEACH CLEAN</td>\n",
       "      <td>1</td>\n",
       "      <td>5</td>\n",
       "      <td>BEACH CLEAN</td>\n",
       "      <td>AranyanisRing</td>\n",
       "      <td>...</td>\n",
       "      <td>2024-11-01 17:19:00</td>\n",
       "      <td>NaN</td>\n",
       "      <td>NaN</td>\n",
       "      <td>NaN</td>\n",
       "      <td>NaN</td>\n",
       "      <td>2024-11-01</td>\n",
       "      <td>0</td>\n",
       "      <td>2024-11-01 14:06:00</td>\n",
       "      <td>NaN</td>\n",
       "      <td>NaN</td>\n",
       "    </tr>\n",
       "    <tr>\n",
       "      <th>2</th>\n",
       "      <td>FRENCHTUKTUKADVENTURE</td>\n",
       "      <td>questbook</td>\n",
       "      <td>NaN</td>\n",
       "      <td>0</td>\n",
       "      <td>NaN</td>\n",
       "      <td>ROADSIDE FRUIT</td>\n",
       "      <td>1</td>\n",
       "      <td>10</td>\n",
       "      <td>ROADSIDE FRUIT</td>\n",
       "      <td>QueenSitasCloak</td>\n",
       "      <td>...</td>\n",
       "      <td>2024-11-01 16:19:00</td>\n",
       "      <td>NaN</td>\n",
       "      <td>NaN</td>\n",
       "      <td>NaN</td>\n",
       "      <td>NaN</td>\n",
       "      <td>2024-11-01</td>\n",
       "      <td>0</td>\n",
       "      <td>2024-11-01 14:45:00</td>\n",
       "      <td>NaN</td>\n",
       "      <td>NaN</td>\n",
       "    </tr>\n",
       "    <tr>\n",
       "      <th>3</th>\n",
       "      <td>FRENCHTUKTUKADVENTURE</td>\n",
       "      <td>questbook</td>\n",
       "      <td>NaN</td>\n",
       "      <td>0</td>\n",
       "      <td>NaN</td>\n",
       "      <td>ROADSIDE FRUIT</td>\n",
       "      <td>1</td>\n",
       "      <td>10</td>\n",
       "      <td>ROADSIDE FRUIT</td>\n",
       "      <td>QueenSitasCloak</td>\n",
       "      <td>...</td>\n",
       "      <td>2024-11-01 16:19:00</td>\n",
       "      <td>NaN</td>\n",
       "      <td>NaN</td>\n",
       "      <td>NaN</td>\n",
       "      <td>NaN</td>\n",
       "      <td>2024-11-01</td>\n",
       "      <td>0</td>\n",
       "      <td>2024-11-01 14:45:00</td>\n",
       "      <td>NaN</td>\n",
       "      <td>NaN</td>\n",
       "    </tr>\n",
       "    <tr>\n",
       "      <th>4</th>\n",
       "      <td>BaNaNaPeeLerZ</td>\n",
       "      <td>questbook</td>\n",
       "      <td>NaN</td>\n",
       "      <td>0</td>\n",
       "      <td>NaN</td>\n",
       "      <td>LOCAL LEGEND</td>\n",
       "      <td>1</td>\n",
       "      <td>5</td>\n",
       "      <td>LOCAL LEGEND</td>\n",
       "      <td>PrimalRoar</td>\n",
       "      <td>...</td>\n",
       "      <td>2024-11-01 16:03:00</td>\n",
       "      <td>NaN</td>\n",
       "      <td>NaN</td>\n",
       "      <td>NaN</td>\n",
       "      <td>NaN</td>\n",
       "      <td>2024-11-01</td>\n",
       "      <td>0</td>\n",
       "      <td>2024-11-01 16:03:00</td>\n",
       "      <td>NaN</td>\n",
       "      <td>NaN</td>\n",
       "    </tr>\n",
       "  </tbody>\n",
       "</table>\n",
       "<p>5 rows × 28 columns</p>\n",
       "</div>"
      ],
      "text/plain": [
       "               team_name challenge_type location_name  location_zone  \\\n",
       "0                  Pyxar      questbook           NaN              0   \n",
       "1              TheStones      questbook           NaN              0   \n",
       "2  FRENCHTUKTUKADVENTURE      questbook           NaN              0   \n",
       "3  FRENCHTUKTUKADVENTURE      questbook           NaN              0   \n",
       "4          BaNaNaPeeLerZ      questbook           NaN              0   \n",
       "\n",
       "  location_area        questbook  MaxPerDay  MaxPerTTT   questbook_name  \\\n",
       "0           NaN  TOURNAMENT SONG          1          1  TOURNAMENT SONG   \n",
       "1           NaN      BEACH CLEAN          1          5      BEACH CLEAN   \n",
       "2           NaN   ROADSIDE FRUIT          1         10   ROADSIDE FRUIT   \n",
       "3           NaN   ROADSIDE FRUIT          1         10   ROADSIDE FRUIT   \n",
       "4           NaN     LOCAL LEGEND          1          5     LOCAL LEGEND   \n",
       "\n",
       "  questbook_category  ...           updatedAt  comment_status report_comment  \\\n",
       "0       RavanasVeena  ... 2024-11-01 18:01:00             NaN            NaN   \n",
       "1      AranyanisRing  ... 2024-11-01 17:19:00             NaN            NaN   \n",
       "2    QueenSitasCloak  ... 2024-11-01 16:19:00             NaN            NaN   \n",
       "3    QueenSitasCloak  ... 2024-11-01 16:19:00             NaN            NaN   \n",
       "4         PrimalRoar  ... 2024-11-01 16:03:00             NaN            NaN   \n",
       "\n",
       "  comment_team_name admin_comment         day  comments_count  \\\n",
       "0               NaN           NaN  2024-11-01               0   \n",
       "1               NaN           NaN  2024-11-01               0   \n",
       "2               NaN           NaN  2024-11-01               0   \n",
       "3               NaN           NaN  2024-11-01               0   \n",
       "4               NaN           NaN  2024-11-01               0   \n",
       "\n",
       "            initiated latitude longitude  \n",
       "0 2024-11-01 09:46:00      NaN       NaN  \n",
       "1 2024-11-01 14:06:00      NaN       NaN  \n",
       "2 2024-11-01 14:45:00      NaN       NaN  \n",
       "3 2024-11-01 14:45:00      NaN       NaN  \n",
       "4 2024-11-01 16:03:00      NaN       NaN  \n",
       "\n",
       "[5 rows x 28 columns]"
      ]
     },
     "execution_count": 207,
     "metadata": {},
     "output_type": "execute_result"
    }
   ],
   "source": [
    "df.head()"
   ]
  },
  {
   "cell_type": "code",
   "execution_count": 209,
   "id": "5a1d40c2-a95a-499a-956e-c19f33aceeae",
   "metadata": {},
   "outputs": [],
   "source": [
    "# save cleaned data set for future use\n",
    "df.to_csv('/Users/jam/msc/course-works/tuktuk_data_2024_cleaned.csv', index=False)"
   ]
  },
  {
   "cell_type": "markdown",
   "id": "d47e508f-d688-47a6-83da-cbdb6a4f6852",
   "metadata": {},
   "source": [
    "### Data Visualization"
   ]
  },
  {
   "cell_type": "code",
   "execution_count": 215,
   "id": "3df3a962-0d3c-4044-9a4d-c0669eae36f1",
   "metadata": {},
   "outputs": [
    {
     "name": "stdout",
     "output_type": "stream",
     "text": [
      "Top 10 Teams:\n",
      "               team_name  points\n",
      "19           GreatDanes    1772\n",
      "8             CanuckTuk    1752\n",
      "34                Pyxar    1610\n",
      "15     Fantukkingtastic    1593\n",
      "17              GETAFIX    1577\n",
      "39         RoadTripperz    1559\n",
      "47        TheBedrockers    1533\n",
      "11          DaggyGreens    1523\n",
      "70  WeTukontheFirstDate    1514\n",
      "75           bamfamilia    1503\n"
     ]
    }
   ],
   "source": [
    "# top 10 teams\n",
    "top_teams = df.groupby('team_name')['points'].sum().reset_index()\n",
    ".sort_values(by='points', ascending=False)\n",
    "print(\"Top 10 Teams:\\n\", top_teams.head(10))"
   ]
  },
  {
   "cell_type": "code",
   "execution_count": 239,
   "id": "ce917ac2-8ae4-49a8-bbca-3766c4a95e2b",
   "metadata": {},
   "outputs": [
    {
     "name": "stderr",
     "output_type": "stream",
     "text": [
      "/var/folders/0p/29y5gpjs09jd6rt_9jltqj7w0000gn/T/ipykernel_1538/3071806758.py:5: FutureWarning: \n",
      "\n",
      "Passing `palette` without assigning `hue` is deprecated and will be removed in v0.14.0. Assign the `x` variable to `hue` and set `legend=False` for the same effect.\n",
      "\n",
      "  sns.barplot(x=top_teams.head(10)['team_name'], y=top_teams.head(10)['points'], palette='viridis')\n"
     ]
    },
    {
     "data": {
      "image/png": "[encoded data removed]",
      "text/plain": [
       "<Figure size 1200x600 with 1 Axes>"
      ]
     },
     "metadata": {},
     "output_type": "display_data"
    }
   ],
   "source": [
    "import matplotlib.pyplot as plt\n",
    "import seaborn as sns\n",
    "\n",
    "plt.figure(figsize=(12,6))\n",
    "sns.barplot(x=top_teams.head(10)['team_name'], y=top_teams.head(10)['points'], palette='viridis')\n",
    "plt.xticks(rotation=45)\n",
    "plt.title(\"Top 10 Teams by Points\")\n",
    "plt.show()"
   ]
  },
  {
   "cell_type": "code",
   "execution_count": 231,
   "id": "4dd3b950-978f-405d-8188-69706f35a996",
   "metadata": {},
   "outputs": [
    {
     "data": {
      "image/png": "[encoded data removed]",
      "text/plain": [
       "<Figure size 800x400 with 1 Axes>"
      ]
     },
     "metadata": {},
     "output_type": "display_data"
    }
   ],
   "source": [
    "# Challenges Breakdown\n",
    "plt.figure(figsize=(8,4))\n",
    "sns.countplot(data=df, x='challenge_type', palette='coolwarm', hue='challenge_type', legend=False)\n",
    "plt.title(\"Challenge Type Distribution (Location vs Questbook)\")\n",
    "plt.show()\n"
   ]
  },
  {
   "cell_type": "code",
   "execution_count": 245,
   "id": "1cc00c92-6716-43db-ac71-1ff1c46a5428",
   "metadata": {},
   "outputs": [
    {
     "data": {
      "image/png": "[encoded data removed]",
      "text/plain": [
       "<Figure size 1200x500 with 1 Axes>"
      ]
     },
     "metadata": {},
     "output_type": "display_data"
    }
   ],
   "source": [
    "# Time-Based Analysis\n",
    "df['hour'] = df['created'].dt.hour\n",
    "df['day_of_week'] = df['created'].dt.day_name()\n",
    "\n",
    "plt.figure(figsize=(12,5))\n",
    "sns.countplot(data=df, x='hour', palette='magma', hue='hour', legend=False)\n",
    "plt.title(\"Challenges Completed by Hour of the Day\")\n",
    "plt.show()\n"
   ]
  },
  {
   "cell_type": "code",
   "execution_count": 265,
   "id": "d04726bf-0179-466d-9c4f-9c5cd05692f6",
   "metadata": {},
   "outputs": [
    {
     "data": {
      "image/png": "[encoded data removed]",
      "text/plain": [
       "<Figure size 1000x500 with 1 Axes>"
      ]
     },
     "metadata": {},
     "output_type": "display_data"
    },
    {
     "data": {
      "image/png": "[encoded data removed]",
      "text/plain": [
       "<Figure size 1200x600 with 1 Axes>"
      ]
     },
     "metadata": {},
     "output_type": "display_data"
    }
   ],
   "source": [
    "# Points Outliers: Using boxplot to detect abnormal point distributions\n",
    "plt.figure(figsize=(10,5))\n",
    "sns.boxplot(x=df['points'])\n",
    "plt.title(\"Points Distribution with Outliers\")\n",
    "plt.show()\n",
    "\n",
    "# Time anomalies: Check if there's an unusual frequency of challenge completions\n",
    "df['initiated'] = pd.to_datetime(df['initiated'])\n",
    "df['hour'] = df['initiated'].dt.hour\n",
    "\n",
    "# Investigate unusual times of day for challenge completions\n",
    "hourly_counts = df['hour'].value_counts().sort_index()\n",
    "hourly_counts.plot(kind='bar', figsize=(12,6))\n",
    "plt.title(\"Challenges Completed by Hour of the Day\")\n",
    "plt.xlabel(\"Hour\")\n",
    "plt.ylabel(\"Number of Challenges\")\n",
    "plt.show()\n"
   ]
  },
  {
   "cell_type": "code",
   "execution_count": 267,
   "id": "ad57daed-d180-43ee-8505-a2d30257df09",
   "metadata": {},
   "outputs": [
    {
     "name": "stdout",
     "output_type": "stream",
     "text": [
      "                   team_name challenge_type  \\\n",
      "2      FRENCHTUKTUKADVENTURE      questbook   \n",
      "3      FRENCHTUKTUKADVENTURE      questbook   \n",
      "32          Fantukkingtastic      questbook   \n",
      "33          Fantukkingtastic      questbook   \n",
      "37          Fantukkingtastic       location   \n",
      "...                      ...            ...   \n",
      "17728       Fantukkingtastic       location   \n",
      "17789           RoadTripperz      questbook   \n",
      "17790           RoadTripperz      questbook   \n",
      "17857             bamfamilia      questbook   \n",
      "17858             bamfamilia      questbook   \n",
      "\n",
      "                             location_name  location_zone      location_area  \\\n",
      "2                                      NaN              0                NaN   \n",
      "3                                      NaN              0                NaN   \n",
      "32                                     NaN              0                NaN   \n",
      "33                                     NaN              0                NaN   \n",
      "37     Galle International Cricket Stadium           1056    Makara - Zone 1   \n",
      "...                                    ...            ...                ...   \n",
      "17728                    Driving Challenge           2161  Macchanu - Zone 2   \n",
      "17789                                  NaN              0                NaN   \n",
      "17790                                  NaN              0                NaN   \n",
      "17857                                  NaN              0                NaN   \n",
      "17858                                  NaN              0                NaN   \n",
      "\n",
      "              questbook  MaxPerDay  MaxPerTTT    questbook_name  \\\n",
      "2        ROADSIDE FRUIT          1         10    ROADSIDE FRUIT   \n",
      "3        ROADSIDE FRUIT          1         10    ROADSIDE FRUIT   \n",
      "32         CLIMB A TREE          1          2      CLIMB A TREE   \n",
      "33     MAGIC FANTASTICK          1          2  MAGIC FANTASTICK   \n",
      "37                  NaN          0          0               NaN   \n",
      "...                 ...        ...        ...               ...   \n",
      "17728               NaN          0          0               NaN   \n",
      "17789          ONLY ONE          1          1          ONLY ONE   \n",
      "17790      AVATAR SHEET          1          1      AVATAR SHEET   \n",
      "17857          ONLY ONE          1          1          ONLY ONE   \n",
      "17858      CHARIOT HUNT          1          1      CHARIOT HUNT   \n",
      "\n",
      "          questbook_category  ... report_comment  comment_team_name  \\\n",
      "2            QueenSitasCloak  ...            NaN                NaN   \n",
      "3            QueenSitasCloak  ...            NaN                NaN   \n",
      "32             AranyanisRing  ...            NaN                NaN   \n",
      "33           QueenSitasCloak  ...            NaN                NaN   \n",
      "37                       NaN  ...            NaN                NaN   \n",
      "...                      ...  ...            ...                ...   \n",
      "17728                    NaN  ...            NaN                NaN   \n",
      "17789        ChaliceofAmrita  ...            NaN                NaN   \n",
      "17790            ShivasSword  ...            NaN                NaN   \n",
      "17857        ChaliceofAmrita  ...            NaN                NaN   \n",
      "17858  AdvancedChariotGaruda  ...            NaN                NaN   \n",
      "\n",
      "      admin_comment         day comments_count           initiated  latitude  \\\n",
      "2               NaN  2024-11-01              0 2024-11-01 14:45:00       NaN   \n",
      "3               NaN  2024-11-01              0 2024-11-01 14:45:00       NaN   \n",
      "32              NaN  2024-11-01              0 2024-11-01 15:42:00       NaN   \n",
      "33              NaN  2024-11-01              0 2024-11-01 15:42:00       NaN   \n",
      "37              NaN  2024-11-01              0 2024-11-01 15:39:00  6.031544   \n",
      "...             ...         ...            ...                 ...       ...   \n",
      "17728           NaN  2024-10-21              0 2024-10-21 12:34:00  7.324063   \n",
      "17789           NaN  2024-10-21              0 2024-10-21 11:53:00       NaN   \n",
      "17790           NaN  2024-10-21              0 2024-10-21 11:53:00       NaN   \n",
      "17857           NaN  2024-10-21              0 2024-10-21 11:21:00       NaN   \n",
      "17858           NaN  2024-10-21              0 2024-10-21 11:21:00       NaN   \n",
      "\n",
      "       longitude hour day_of_week  \n",
      "2            NaN   14      Friday  \n",
      "3            NaN   14      Friday  \n",
      "32           NaN   15      Friday  \n",
      "33           NaN   15      Friday  \n",
      "37     80.216042   15      Friday  \n",
      "...          ...  ...         ...  \n",
      "17728  80.633520   12      Monday  \n",
      "17789        NaN   11      Monday  \n",
      "17790        NaN   11      Monday  \n",
      "17857        NaN   11      Monday  \n",
      "17858        NaN   11      Monday  \n",
      "\n",
      "[1825 rows x 30 columns]\n"
     ]
    }
   ],
   "source": [
    "duplicates = df[df.duplicated(subset=['team_name', 'challenge_type', 'initiated'], keep=False)]\n",
    "print(duplicates)"
   ]
  },
  {
   "cell_type": "code",
   "execution_count": null,
   "id": "ec68ac02-3672-4d2a-b0f5-5e6e2c5d0999",
   "metadata": {},
   "outputs": [],
   "source": []
  }
 ],
 "metadata": {
  "kernelspec": {
   "display_name": "Python 3 (ipykernel)",
   "language": "python",
   "name": "python3"
  },
  "language_info": {
   "codemirror_mode": {
    "name": "ipython",
    "version": 3
   },
   "file_extension": ".py",
   "mimetype": "text/x-python",
   "name": "python",
   "nbconvert_exporter": "python",
   "pygments_lexer": "ipython3",
   "version": "3.12.7"
  }
 },
 "nbformat": 4,
 "nbformat_minor": 5
}
